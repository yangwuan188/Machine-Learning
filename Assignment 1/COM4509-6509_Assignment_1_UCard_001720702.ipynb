{
 "cells": [
  {
   "cell_type": "markdown",
   "metadata": {},
   "source": [
    "# Assignment 1 Brief \n",
    "\n",
    "## Deadline: Tuesday, October 29, 2019 at 14:00 hrs\n",
    "\n",
    "## Number of marks available: 20\n",
    "\n",
    "## Scope: Sessions 1 to 5\n",
    "\n",
    "### How and what to submit\n",
    "\n",
    "A. Submit a Jupyter Notebook named COM4509-6509_Assignment_1_UCard_XXXXXXXXX.ipynb where XXXXXXXXX refers to your UCard number.\n",
    "\n",
    "B. Upload the notebook file to MOLE before the deadline above.\n",
    "\n",
    "C. **NO DATA UPLOAD**: Please do not upload the data files used. We have a copy already. \n",
    "\n",
    "\n",
    "### Assessment Criteria \n",
    "\n",
    "* Being able to express an objective function and its gradients in matrix form.\n",
    "\n",
    "* Being able to use numpy and pandas to preprocess a dataset.\n",
    "\n",
    "* Being able to use numpy to build a machine learning pipeline for supervised learning. \n",
    "\n",
    "\n",
    "### Late submissions\n",
    "\n",
    "We follow Department's guidelines about late submissions, i.e., a deduction of 5% of the mark each working day the work is late after the deadline. NO late submission will be marked one week after the deadline because we will release a solution by then. Please read [this link](https://sites.google.com/sheffield.ac.uk/compgtstudenthandbook/menu/assessment/late-submission?pli=1&authuser=1). \n",
    "\n",
    "### Use of unfair means \n",
    "\n",
    "**\"Any form of unfair means is treated as a serious academic offence and action may be taken under the Discipline Regulations.\"** (from the MSc Handbook). Please carefully read [this link](https://sites.google.com/sheffield.ac.uk/compgtstudenthandbook/menu/referencing-unfair-means?pli=1&authuser=1) on what constitutes Unfair Means if not sure."
   ]
  },
  {
   "cell_type": "markdown",
   "metadata": {},
   "source": [
    "# Regularisation for Linear Regression\n",
    "\n",
    "Regularisation is a technique commonly used in Machine Learning to prevent overfitting. It consists on adding terms to the objective function such that the optimisation procedure avoids solutions that just learn the training data. Popular techniques for regularisation in Supervised Learning include Lasso Regression, Ridge Regression and the Elastic Net. \n",
    "\n",
    "In this Assignment, you will be looking at Ridge Regression and devising equations to optimise the objective function in Ridge Regression using two methods: a closed-form derivation and the update rules for stochastic gradient descent. You will then use those update rules for making predictions on a Air Quaility dataset.\n",
    "\n",
    "## Ridge Regression\n",
    "\n",
    "Let us start with a data set for training $\\mathcal{D} = \\{\\mathbf{y}, \\mathbf{X}\\}$, where the vector $\\mathbf{y}=[y_1, \\cdots, y_n]^{\\top}$ and $\\mathbf{X}$ is the design matrix from Lab 3, this is, \n",
    "\n",
    "\\begin{align*}\n",
    "    \\mathbf{X} = \n",
    "                \\begin{bmatrix}\n",
    "                        1 & x_{1,1} & \\cdots & x_{1, D}\\\\\n",
    "                        1 & x_{2,1} & \\cdots & x_{2, D}\\\\\n",
    "                   \\vdots &  \\vdots\\\\\n",
    "                        1 & x_{n,1} & \\cdots & x_{n, D}\n",
    "                \\end{bmatrix}\n",
    "               = \n",
    "               \\begin{bmatrix}\n",
    "                      \\mathbf{x}_1^{\\top}\\\\\n",
    "                       \\mathbf{x}_2^{\\top}\\\\\n",
    "                          \\vdots\\\\\n",
    "                        \\mathbf{x}_n^{\\top}\n",
    "                \\end{bmatrix}.\n",
    "\\end{align*}\n",
    "\n",
    "Our predictive model is going to be a linear model\n",
    "\n",
    "$$ f(\\mathbf{x}_i) = \\mathbf{w}^{\\top}\\mathbf{x}_i,$$\n",
    "\n",
    "where $\\mathbf{w} = [w_0\\; w_1\\; \\cdots \\; w_D]^{\\top}$.\n",
    "\n",
    "The **objetive function** we are going to use has the following form\n",
    "\n",
    "$$ J(\\mathbf{w}, \\alpha) = \\frac{1}{n}\\sum_{i=1}^n (y_i - f(\\mathbf{x}_i))^2 + \\frac{\\alpha}{2}\\sum_{j=0}^D w_j^2,$$\n",
    "\n",
    "where $\\alpha>0$ is known as the *regularisation* parameter.\n",
    "\n",
    "The first term on the right-hand side (rhs) of the expression for $J(\\mathbf{w}, \\alpha)$ is very similar to the least-squares objective function we have seen before, for example in Lab 3. The only difference is on the term $\\frac{1}{n}$ that we use to normalise the objective with respect to the number of observations in the dataset. \n",
    "\n",
    "The first term on the rhs is what we call the \"fitting\" term whereas the second term in the expression is the regularisation term. Given $\\alpha$, the two terms in the expression have different purposes. The first term is looking for a value of $\\mathbf{w}$ that leads the squared-errors to zero. While doing this, $\\mathbf{w}$ can take any value and lead to a solution that it is only good for the training data but perhaps not for the test data. The second term is regularising the behavior of the first term by driving the $\\mathbf{w}$ towards zero. By doing this, it restricts the possible set of values that $\\mathbf{w}$ might take according to the first term. The value that we use for $\\alpha$ will allow a compromise between a value of $\\mathbf{w}$ that exactly fits the data (first term) or a value of $\\mathbf{w}$ that does not grow too much (second term).\n",
    "\n",
    "This type of regularisation has different names: ridge regression, Tikhonov regularisation or $\\ell_2$ norm regularisation. \n",
    "\n",
    "### Question 1: $J(\\mathbf{w}, \\alpha)$ in matrix form (2 marks)\n",
    "\n",
    "Write the expression for $J(\\mathbf{w}, \\alpha)$ in matrix form. Include ALL the steps necessary to reach the expression."
   ]
  },
  {
   "cell_type": "markdown",
   "metadata": {},
   "source": [
    "#### Question 1 Answer\n",
    "\n",
    "Write your answer to the question in this box.\n",
    "$$J(\\mathbf{w}, \\alpha) = \\frac{1}{n}\\sum_{i=1}^n (y_i - f(\\mathbf{x}_i))^2 + \\frac{\\alpha}{2}\\sum_{j=0}^D w_j^2\\\\ = \\frac{1}{n}\\sum_{i=1}^n y_i^2- \\frac{2}{n}\\sum_{i=1}^n        \\mathbf{w}^{\\top}\\mathbf{x}_iy_i+\\frac{1}{n}\\sum_{i=1}^n\\mathbf{w}^{\\top}\\mathbf{x}_i\\mathbf{x}_i^{\\top}\\mathbf{w}+\\frac{\\alpha}{2}\\sum_{j=0}^D w_j^2\\\\=\\frac{1}{n}\\mathbf{y}^{\\top}\\mathbf{y}-\\frac{2}{n}\\sum_{i=1}^n\\mathbf{w}^{\\top}\\mathbf{X}^{\\top}y_i+\\frac{1}{n}\\mathbf{w}^{\\top}\\left[\\sum _{i=1}^{n}\\mathbf{x}_i\\mathbf{x}_i^{\\top}\\right]\\mathbf{w}+\\frac{\\alpha}{2}\\mathbf{w}^{\\top}\\mathbf{w}\\\\ =\\frac{1}{n}\\mathbf{y}^{\\top}\\mathbf{y}-\\frac{2}{n}\\mathbf{w}^{\\top}\\mathbf{X}^{\\top}\\mathbf{y}+\\frac{1}{n}\\mathbf{w}^{\\top}\\mathbf{X}^{\\top}\\mathbf{X}\\mathbf{w}+\\frac{\\alpha}{2}\\mathbf{w}^{\\top}\\mathbf{w}$$"
   ]
  },
  {
   "cell_type": "markdown",
   "metadata": {},
   "source": [
    "## Optimising the objective function with respect to $\\mathbf{w}$\n",
    "\n",
    "There are two ways we can optimise the objective function with respect to $\\mathbf{w}$. The first one leads to a closed form expression for $\\mathbf{w}$ and the second one using an iterative optimisation procedure that updates the value of $\\mathbf{w}$ at each iteration by using the gradient of the objective function with respect to $\\mathbf{w}$,\n",
    "$$\n",
    "\\mathbf{w}_{\\text{new}} = \\mathbf{w}_{\\text{old}} - \\eta \\frac{d J(\\mathbf{w}, \\alpha)}{d\\mathbf{w}},\n",
    "$$\n",
    "where $\\eta$ is the *learning rate* parameter and $\\frac{d J(\\mathbf{w}, \\alpha)}{d\\mathbf{w}}$ is the gradient of the objective function.\n",
    "\n",
    "### Question 2: Derivative of $J(\\mathbf{w}, \\alpha)$ wrt $\\mathbf{w}$ (2 marks)\n",
    "\n",
    "Find the closed-form expression for $\\mathbf{w}$ by taking the derivative of $J(\\mathbf{w}, \\alpha)$ with respect to \n",
    "$\\mathbf{w}$, equating to zero and solving for $\\mathbf{w}$. Write the expression in matrix form. \n",
    "\n",
    "Also, write down the specific update rule for $\\mathbf{w}_{\\text{new}}$ by using the equation above."
   ]
  },
  {
   "cell_type": "markdown",
   "metadata": {},
   "source": [
    "#### Question 2 Answer\n",
    "\n",
    "Write your answer to the question in this box.\n",
    "\n",
    "$$\\frac{d J(\\mathbf{w}, \\alpha)}{d\\mathbf{w}}=-\\frac{2}{n}\\mathbf{X}^{\\top}\\mathbf{y}+\\frac{2}{n}\\mathbf{X}^{\\top}\\mathbf{X}\\mathbf{w}+\\alpha\\mathbf{w}=0\\\\\n",
    "\\mathbf{w}(\\frac{2}{n}\\mathbf{X}^{\\top}\\mathbf{X}+\\alpha)=\\frac{2}{n}\\mathbf{y}\\mathbf{X}^{\\top}\\\\\n",
    "\\mathbf{w}^{*}=\\left[\\frac{2}{n}\\mathbf{X}^{\\top}\\mathbf{X}+\\alpha\\right]^{-1}\\frac{2}{n}\\mathbf{X}^{\\top}\\mathbf{y}^{\\top}\\\\\n",
    "\\mathbf{w}_{\\text{new}} = \\mathbf{w}_{\\text{old}} - \\eta \\frac{d J(\\mathbf{w}, \\alpha)}{d\\mathbf{w}}=\\mathbf{w}_{\\text{old}}-(\\frac{2\\eta}{n}\\mathbf{X}^{\\top}\\mathbf{X}\\mathbf{w}-\\frac{2\\eta}{n}\\mathbf{X}^{\\top}\\mathbf{y}+\\eta\\alpha\\mathbf{w})$$"
   ]
  },
  {
   "cell_type": "markdown",
   "metadata": {},
   "source": [
    "# Using ridge regression to predict air quality\n",
    "\n",
    "Our dataset comes from a popular machine learning repository that hosts open source datasets for educational and research purposes, the [UCI Machine Learning Repository](https://archive.ics.uci.edu/ml/index.php). We are going to use ridge regression for predicting air quality. The description of the dataset can be found [here](https://archive.ics.uci.edu/ml/datasets/Air+Quality)."
   ]
  },
  {
   "cell_type": "code",
   "execution_count": 456,
   "metadata": {},
   "outputs": [
    {
     "name": "stdout",
     "output_type": "stream",
     "text": [
      "Downloading  https://archive.ics.uci.edu/ml/machine-learning-databases/00360/AirQualityUCI.zip -> ./AirQualityUCI.zip\n"
     ]
    },
    {
     "name": "stdout",
     "output_type": "stream",
     "text": [
      "[==========================    ]   1.320/1.472MB                                                                                                                                                                                                                                                                                                                                                                                                                                                                                                                                                                                                                                                                                                                                                                                                                                                                                                                                                                                                                                                                                                                                                                                                                                                                                                                                                                                                                                                                                                                                                                                                                                                                                                                                                                                                                                                                                                                                                                                                                                                                                                                                                                                                                                                                                                                                                                                                                                                                                                                                                                                                                                                                                                                                                                                                                                                                                                                                                                                                                                                                                                                                                                                                                                                                                                                                                                                                                                                                                                                                                                                                                                                                                                                                                                                                                                                                                                                                                                                                                                                                                                                                                                                                                                                                                                                                                                                                                                                                                                                                                                                                                                                                                                                                                                                                                                                                                                                                                                                                                                                                                                                                                                                                                                                                                                                                                                                                                                                                                                                                                                                                                                                                                                                                                                                                                                                                                                                                                                                                                                                                                                                                                                                                                                                                                                                                                                                                                                                                                                                                                                                                                                                                                                                                                                                                                                                                                                                                                                                                                                                                                                                                                                                                                                                                                                                                                                                                                                                                                                                                                                                                                                                                                                                                                                                                                                                                                                                                                                                                                                                                                                                                                                                                                                                                                                                                                                                                                                                \r",
      "[===========================   ]   1.328/1.472MB"
     ]
    },
    {
     "name": "stdout",
     "output_type": "stream",
     "text": [
      "[==============================]   1.472/1.472MB                                                                                                                                                                                                                                                                                                                                                                                                                                                                                                                                                                                                                                                                                                                                                                                                                                                                                                                                                \n"
     ]
    }
   ],
   "source": [
    "import pods\n",
    "pods.util.download_url('https://archive.ics.uci.edu/ml/machine-learning-databases/00360/AirQualityUCI.zip')\n",
    "import zipfile\n",
    "zip = zipfile.ZipFile('./AirQualityUCI.zip', 'r')\n",
    "for name in zip.namelist():\n",
    "    zip.extract(name, '.')"
   ]
  },
  {
   "cell_type": "code",
   "execution_count": 457,
   "metadata": {},
   "outputs": [],
   "source": [
    "# The .csv version of the file has some typing issues, so we use the excel version\n",
    "import pandas as pd \n",
    "air_quality = pd.read_excel('./AirQualityUCI.xlsx', usecols=range(2,15))"
   ]
  },
  {
   "cell_type": "markdown",
   "metadata": {},
   "source": [
    "We can see some of the rows in the dataset "
   ]
  },
  {
   "cell_type": "code",
   "execution_count": 458,
   "metadata": {},
   "outputs": [
    {
     "data": {
      "text/html": [
       "<div>\n",
       "<style scoped>\n",
       "    .dataframe tbody tr th:only-of-type {\n",
       "        vertical-align: middle;\n",
       "    }\n",
       "\n",
       "    .dataframe tbody tr th {\n",
       "        vertical-align: top;\n",
       "    }\n",
       "\n",
       "    .dataframe thead th {\n",
       "        text-align: right;\n",
       "    }\n",
       "</style>\n",
       "<table border=\"1\" class=\"dataframe\">\n",
       "  <thead>\n",
       "    <tr style=\"text-align: right;\">\n",
       "      <th></th>\n",
       "      <th>CO(GT)</th>\n",
       "      <th>PT08.S1(CO)</th>\n",
       "      <th>NMHC(GT)</th>\n",
       "      <th>C6H6(GT)</th>\n",
       "      <th>PT08.S2(NMHC)</th>\n",
       "      <th>NOx(GT)</th>\n",
       "      <th>PT08.S3(NOx)</th>\n",
       "      <th>NO2(GT)</th>\n",
       "      <th>PT08.S4(NO2)</th>\n",
       "      <th>PT08.S5(O3)</th>\n",
       "      <th>T</th>\n",
       "      <th>RH</th>\n",
       "      <th>AH</th>\n",
       "    </tr>\n",
       "  </thead>\n",
       "  <tbody>\n",
       "    <tr>\n",
       "      <th>4542</th>\n",
       "      <td>1.6</td>\n",
       "      <td>1060.25</td>\n",
       "      <td>-200</td>\n",
       "      <td>8.624679</td>\n",
       "      <td>924.50</td>\n",
       "      <td>339.0</td>\n",
       "      <td>772.0</td>\n",
       "      <td>109.0</td>\n",
       "      <td>1648.50</td>\n",
       "      <td>1160.50</td>\n",
       "      <td>21.125</td>\n",
       "      <td>70.125000</td>\n",
       "      <td>1.736583</td>\n",
       "    </tr>\n",
       "    <tr>\n",
       "      <th>570</th>\n",
       "      <td>-200.0</td>\n",
       "      <td>1437.50</td>\n",
       "      <td>-200</td>\n",
       "      <td>13.378099</td>\n",
       "      <td>1096.25</td>\n",
       "      <td>-200.0</td>\n",
       "      <td>781.0</td>\n",
       "      <td>-200.0</td>\n",
       "      <td>1779.25</td>\n",
       "      <td>1266.25</td>\n",
       "      <td>23.275</td>\n",
       "      <td>35.825000</td>\n",
       "      <td>1.009765</td>\n",
       "    </tr>\n",
       "    <tr>\n",
       "      <th>7959</th>\n",
       "      <td>4.1</td>\n",
       "      <td>1165.00</td>\n",
       "      <td>-200</td>\n",
       "      <td>11.270729</td>\n",
       "      <td>1024.00</td>\n",
       "      <td>758.9</td>\n",
       "      <td>646.0</td>\n",
       "      <td>310.1</td>\n",
       "      <td>1133.50</td>\n",
       "      <td>1364.75</td>\n",
       "      <td>4.050</td>\n",
       "      <td>52.674999</td>\n",
       "      <td>0.434537</td>\n",
       "    </tr>\n",
       "    <tr>\n",
       "      <th>724</th>\n",
       "      <td>2.4</td>\n",
       "      <td>-200.00</td>\n",
       "      <td>160</td>\n",
       "      <td>-200.000000</td>\n",
       "      <td>-200.00</td>\n",
       "      <td>175.0</td>\n",
       "      <td>-200.0</td>\n",
       "      <td>102.0</td>\n",
       "      <td>-200.00</td>\n",
       "      <td>-200.00</td>\n",
       "      <td>-200.000</td>\n",
       "      <td>-200.000000</td>\n",
       "      <td>-200.000000</td>\n",
       "    </tr>\n",
       "    <tr>\n",
       "      <th>4120</th>\n",
       "      <td>-200.0</td>\n",
       "      <td>1028.25</td>\n",
       "      <td>-200</td>\n",
       "      <td>6.923913</td>\n",
       "      <td>853.50</td>\n",
       "      <td>-200.0</td>\n",
       "      <td>776.0</td>\n",
       "      <td>-200.0</td>\n",
       "      <td>1560.75</td>\n",
       "      <td>760.75</td>\n",
       "      <td>29.525</td>\n",
       "      <td>39.049999</td>\n",
       "      <td>1.586803</td>\n",
       "    </tr>\n",
       "  </tbody>\n",
       "</table>\n",
       "</div>"
      ],
      "text/plain": [
       "      CO(GT)  PT08.S1(CO)  NMHC(GT)    C6H6(GT)  PT08.S2(NMHC)  NOx(GT)  \\\n",
       "4542     1.6      1060.25      -200    8.624679         924.50    339.0   \n",
       "570   -200.0      1437.50      -200   13.378099        1096.25   -200.0   \n",
       "7959     4.1      1165.00      -200   11.270729        1024.00    758.9   \n",
       "724      2.4      -200.00       160 -200.000000        -200.00    175.0   \n",
       "4120  -200.0      1028.25      -200    6.923913         853.50   -200.0   \n",
       "\n",
       "      PT08.S3(NOx)  NO2(GT)  PT08.S4(NO2)  PT08.S5(O3)        T          RH  \\\n",
       "4542         772.0    109.0       1648.50      1160.50   21.125   70.125000   \n",
       "570          781.0   -200.0       1779.25      1266.25   23.275   35.825000   \n",
       "7959         646.0    310.1       1133.50      1364.75    4.050   52.674999   \n",
       "724         -200.0    102.0       -200.00      -200.00 -200.000 -200.000000   \n",
       "4120         776.0   -200.0       1560.75       760.75   29.525   39.049999   \n",
       "\n",
       "              AH  \n",
       "4542    1.736583  \n",
       "570     1.009765  \n",
       "7959    0.434537  \n",
       "724  -200.000000  \n",
       "4120    1.586803  "
      ]
     },
     "execution_count": 458,
     "metadata": {},
     "output_type": "execute_result"
    }
   ],
   "source": [
    "air_quality.sample(5)"
   ]
  },
  {
   "cell_type": "markdown",
   "metadata": {},
   "source": [
    "The target variable corresponds to the CO(GT) variable of the first column. The following columns correspond to the variables in the feature vectors, *e.g.*, PT08.S1(CO) is $x_1$ up until AH which is $x_D$. The original dataset also has a date and a time columns that we are not going to use in this assignment.\n",
    "\n",
    "Before designing our predictive model, we need to think about three stages: the preprocessing stage, the training stage and the validation stage. The three stages are interconnected and *it is important to remember that the testing data that we use for validation has to be set aside before preprocessing*. Any preprocessing that you do has to be done only on the training data and several key statistics need to be saved for the test stage.\n",
    "\n",
    "Separating the dataset into training and test before any preprocessing has happened help us to recreate the real world scenario where we will deploy our system and for which the data will come without any preprocessing.\n",
    "\n",
    "We are going to use *hold-out validation* for testing our predictive model so we need to separate the dataset into a training set and a test set.\n",
    "\n",
    "### Question 3: Splitting the dataset (1 mark)\n",
    "\n",
    "Split the dataset into a training set and a test set. The training set should have 70% of the total observations and the test set, the 30%. For making the random selection make sure that you use a random seed that corresponds to the last five digits of your student UCard. Make sure that you comment your code.\n",
    "\n",
    "#### Question 3 Answer"
   ]
  },
  {
   "cell_type": "code",
   "execution_count": 459,
   "metadata": {},
   "outputs": [],
   "source": [
    "# Write your code here\n",
    "import numpy as np\n",
    "StudentID=20702\n",
    "np.random.seed(StudentID)\n",
    "train_set = air_quality.sample(frac=0.7,random_state=StudentID)\n",
    "test_set = air_quality[~air_quality.index.isin(train_set.index)]"
   ]
  },
  {
   "cell_type": "markdown",
   "metadata": {},
   "source": [
    "## Preprocessing the data\n",
    "\n",
    "The dataset has missing values tagged with a -200 value. Before doing any work with the training data, we want to make sure that we deal properly with the missing values. \n",
    "\n",
    "### Question 4: Missing values (3 marks)\n",
    "\n",
    "Make some exploratory analysis on the number of missing values per column in the training data. \n",
    "\n",
    "* Remove the rows for which the target feature has missing values. We are doing supervised learning so we need all our data observations to have known target values.\n",
    "\n",
    "* Remove features with more than 20% of missing values. For all the other features with missing values, use the mean value of the non-missing values for imputation.\n",
    "\n",
    "#### Question 4 Answer"
   ]
  },
  {
   "cell_type": "code",
   "execution_count": 460,
   "metadata": {},
   "outputs": [],
   "source": [
    "# Write your code here\n",
    "index_missing_target = train_set[train_set['CO(GT)']==-200].index\n",
    "train_set.drop(index_missing_target,inplace=True)"
   ]
  },
  {
   "cell_type": "code",
   "execution_count": 461,
   "metadata": {},
   "outputs": [],
   "source": [
    "train_set_features = train_set.drop(columns=['CO(GT)'])\n",
    "rows = train_set.shape[0]\n",
    "for column,serie in train_set_features.iteritems():\n",
    "    counts = train_set.groupby([column]).size()[-200]\n",
    "    if counts/rows > 0.2:\n",
    "        train_set.drop(columns=[column],inplace=True)"
   ]
  },
  {
   "cell_type": "code",
   "execution_count": 462,
   "metadata": {},
   "outputs": [],
   "source": [
    "Mean = []\n",
    "for column,serie in train_set.iteritems():\n",
    "    Sum = 0\n",
    "    count = 0\n",
    "    for value in train_set[column]:\n",
    "        if value != -200:\n",
    "            Sum += value\n",
    "            count += 1\n",
    "    mean = Sum/count\n",
    "    Mean.append(mean)\n",
    "    train_set[column].replace(-200,mean,inplace=True)"
   ]
  },
  {
   "cell_type": "markdown",
   "metadata": {},
   "source": [
    "### Question 5: Normalising the training data (2 marks)\n",
    "\n",
    "Now that you have removed the missing data, we need to normalise the input vectors. \n",
    "\n",
    "* Explain in a sentence why do you need to normalise the input features for this dataset.\n",
    "\n",
    "* Normalise the training data by substracting the mean value for each feature and dividing the result by the standard deviation of each feature. Keep the mean values and standard deviations, you will need them at test time.\n",
    "\n",
    "#### Question 5 Answer\n",
    "\n",
    "Write your explanation in this box\n",
    "\n",
    "In this dataset, the ranges of values in different input vectors have big differences.This leads to a very slow iteration in the gradient descent.If we normalise the input vectors, iteration will be faster.It saves time that looking for the best solution.\n"
   ]
  },
  {
   "cell_type": "code",
   "execution_count": 463,
   "metadata": {},
   "outputs": [],
   "source": [
    "# Write your code here\n",
    "train_data = train_set.drop(columns=['CO(GT)'])\n",
    "n = train_data.shape[1]\n",
    "mean_std = np.zeros((n,2))\n",
    "count = 0\n",
    "for column,serie in train_data.iteritems():\n",
    "    mean_std[count][0] = train_data[column].mean()\n",
    "    mean_std[count][1] = train_data[column].std()\n",
    "    train_data[column] = (train_data[column] - train_data[column].mean())/train_data[column].std()\n",
    "    count += 1"
   ]
  },
  {
   "cell_type": "markdown",
   "metadata": {},
   "source": [
    "## Training and validation stages\n",
    "\n",
    "We have now curated our training data by removing data observations and features with a large amount of missing values. We have also normalised the feature vectors. We are now in a good position to work on developing the prediction model and validating it. We will use both the closed form expression for $\\mathbf{w}$ and gradient descent for iterative optimisation. \n",
    "\n",
    "We first organise the dataframe into the vector of targets $\\mathbf{y}$ and the design matrix $\\mathbf{X}$."
   ]
  },
  {
   "cell_type": "code",
   "execution_count": 464,
   "metadata": {},
   "outputs": [],
   "source": [
    "# Write your code here to get y and X\n",
    "y = train_set['CO(GT)'].values\n",
    "m = train_data.shape[0]\n",
    "X = np.insert(train_data.values,0,values=np.ones((1,m)),axis=1)"
   ]
  },
  {
   "cell_type": "markdown",
   "metadata": {},
   "source": [
    "### Question 6: training with closed form expression for $\\mathbf{w}$ (3 marks)\n",
    "\n",
    "To find the optimal value of $\\mathbf{w}$ using the closed form expression that you derived before, we need to know the value of the regularisation parameter $\\alpha$ in advance. We will determine the value by using part of the training data for finding the parameters $\\mathbf{w}$ and another part of the training data to choose the best $\\alpha$ from a set of predefined values.\n",
    "\n",
    "* Use `np.logspace(start, stop, num)` to create a set of values for $\\alpha$ in log scale. Use the following parameters `start=-3`, `stop=2` and `num=20`. \n",
    "\n",
    "* Randomly split the training data into what is properly called the training set and the validation set. As before, make sure that you use a random seed that corresponds to the last five digits of your student UCard. Use 70% of the data for the training set and 30% of the data for the validation set.\n",
    "\n",
    "* For each value that you have for $\\alpha$ from the previous step, use the training set to compute $\\mathbf{w}$ and then measure the mean-squared error (MSE) over the validation data. After this, you will have `num=20` MSE values. Choose the value of $\\alpha$ that leads to the lower MSE and save it. You will use it at the test stage.\n",
    "\n",
    "* What was the best value of $\\alpha$? Is there any explanation for that?\n",
    "\n",
    "#### Question 6 Answer"
   ]
  },
  {
   "cell_type": "code",
   "execution_count": 465,
   "metadata": {},
   "outputs": [],
   "source": [
    "alpha = np.logspace(-3,2,20)\n",
    "X_ = np.insert(X,0,values=y.reshape(1,-1),axis=1)\n",
    "np.random.shuffle(X_)\n",
    "training_set = X_[0:int(0.7*len(X_)),1:]\n",
    "validation_set = X_[int(0.7*len(X_)):,1:]\n",
    "y_training_set = X_[0:int(0.7*len(X_)),0]\n",
    "y_validation_set = X_[int(0.7*len(X_)):,0]"
   ]
  },
  {
   "cell_type": "code",
   "execution_count": 466,
   "metadata": {},
   "outputs": [],
   "source": [
    "w = np.zeros((20,12))\n",
    "n = training_set.shape[0]\n",
    "MSE = np.zeros(20)"
   ]
  },
  {
   "cell_type": "code",
   "execution_count": 467,
   "metadata": {},
   "outputs": [],
   "source": [
    "for i in range(len(alpha)):\n",
    "    w[i] = np.linalg.inv(2/n*np.dot(training_set.T,training_set)+alpha[i]).dot(2/n*np.dot(training_set.T,y_training_set.reshape(-1,1))).reshape(1,-1)\n",
    "    MSE[i] = 1/n*np.dot(y_validation_set.reshape(1,-1),y_validation_set.reshape(-1,1)) - 2/n*(np.dot(w[i].reshape(1,-1),validation_set.T)).dot(y_validation_set.reshape(-1,1)) + 1/n*np.dot((w[i].reshape(1,-1).dot(validation_set.T)),validation_set.dot(w[i].reshape(-1,1))) + 1/2*alpha[i]*np.dot(w[i].reshape(1,-1),w[i].reshape(-1,1))\n",
    "    "
   ]
  },
  {
   "cell_type": "code",
   "execution_count": 468,
   "metadata": {},
   "outputs": [
    {
     "name": "stdout",
     "output_type": "stream",
     "text": [
      "alpha =  0.001\n",
      "The lowest MSE =  0.09599054145823399\n"
     ]
    }
   ],
   "source": [
    "print(\"alpha = \",alpha[np.argmin(MSE)])\n",
    "print(\"The lowest MSE = \",MSE[np.argmin(MSE)])"
   ]
  },
  {
   "cell_type": "markdown",
   "metadata": {},
   "source": [
    "Write your answer to the last question here.\n",
    "\n",
    "The best value of  𝛼 is 0.001. The best 𝛼 leads to the lowest mean-squared error"
   ]
  },
  {
   "cell_type": "markdown",
   "metadata": {},
   "source": [
    "### Question 7: validation with the closed form expression for $\\mathbf{w}$ (2 marks)\n",
    "\n",
    "We are going to deal now with the test data to perform the validation of the model. Remember that the test data might also contain missing values in the target variable and in the input features.\n",
    "\n",
    "* Remove the rows of the test data for which the labels have missing values. \n",
    "* If you remove any feature at the training stage, you also need to remove the same features from the test stage.\n",
    "* Replace the missing values on each feature variables with the mean value you computed in the training data.\n",
    "* Normalise the test data using the means and standard deviations computed from the training data\n",
    "* Compute again $\\mathbf{w}$ for the value of $\\alpha$ that best performed on the validation set using ALL the training data (not all the training set).\n",
    "* Report the MSE on the preprocessed test data and an histogram with the absolute error.\n",
    "* Does the regularisation have any effect on the model? Explain your answer.\n",
    "\n",
    "#### Question 7 Answer"
   ]
  },
  {
   "cell_type": "code",
   "execution_count": 469,
   "metadata": {},
   "outputs": [
    {
     "name": "stderr",
     "output_type": "stream",
     "text": [
      "/Users/yangwuan/anaconda3/lib/python3.7/site-packages/pandas/core/frame.py:3940: SettingWithCopyWarning: \n",
      "A value is trying to be set on a copy of a slice from a DataFrame\n",
      "\n",
      "See the caveats in the documentation: http://pandas.pydata.org/pandas-docs/stable/indexing.html#indexing-view-versus-copy\n",
      "  errors=errors)\n"
     ]
    }
   ],
   "source": [
    "index_missing_target = test_set[test_set['CO(GT)']==-200].index\n",
    "test_set.drop(index_missing_target,inplace=True)\n",
    "test_set.drop(columns='NMHC(GT)',inplace=True)"
   ]
  },
  {
   "cell_type": "code",
   "execution_count": 470,
   "metadata": {},
   "outputs": [
    {
     "name": "stderr",
     "output_type": "stream",
     "text": [
      "/Users/yangwuan/anaconda3/lib/python3.7/site-packages/pandas/core/generic.py:6586: SettingWithCopyWarning: \n",
      "A value is trying to be set on a copy of a slice from a DataFrame\n",
      "\n",
      "See the caveats in the documentation: http://pandas.pydata.org/pandas-docs/stable/indexing.html#indexing-view-versus-copy\n",
      "  self._update_inplace(new_data)\n"
     ]
    }
   ],
   "source": [
    "count = 0\n",
    "for column,serie in test_set.iteritems():\n",
    "    test_set[column].replace(-200,Mean[count],inplace=True)\n",
    "    count += 1"
   ]
  },
  {
   "cell_type": "code",
   "execution_count": 471,
   "metadata": {},
   "outputs": [],
   "source": [
    "test_data = test_set.drop(columns='CO(GT)')\n",
    "count = 0\n",
    "for column,serie in test_data.iteritems():\n",
    "    test_data[column] = (test_data[column] - mean_std[count][0])/mean_std[count][1]\n",
    "    count += 1"
   ]
  },
  {
   "cell_type": "code",
   "execution_count": 472,
   "metadata": {},
   "outputs": [],
   "source": [
    "y_test = test_set['CO(GT)'].values\n",
    "m = test_data.shape[0]\n",
    "X_test = np.insert(test_data.values,0,values=np.ones((1,m)),axis=1)"
   ]
  },
  {
   "cell_type": "code",
   "execution_count": 473,
   "metadata": {},
   "outputs": [],
   "source": [
    "n = X_test.shape[0]\n",
    "w_best_alpha = np.linalg.inv(2/n*np.dot(X.T,X)+0.001).dot(2/n*np.dot(X.T,y.reshape(-1,1))).reshape(1,-1)\n",
    "MSE_best_alpha = 1/n*np.dot(y_test.reshape(1,-1),y_test.reshape(-1,1)) - 2/n*(np.dot(w_best_alpha.reshape(1,-1),X_test.T)).dot(y_test.reshape(-1,1)) + 1/n*np.dot((w_best_alpha.reshape(1,-1).dot(X_test.T)),X_test.dot(w_best_alpha.reshape(-1,1))) + 1/2*0.001*np.dot(w_best_alpha.reshape(1,-1),w_best_alpha.reshape(-1,1))\n"
   ]
  },
  {
   "cell_type": "code",
   "execution_count": 474,
   "metadata": {},
   "outputs": [
    {
     "name": "stdout",
     "output_type": "stream",
     "text": [
      "MSE on the test data: 0.24867543408772755\n"
     ]
    }
   ],
   "source": [
    "print(\"MSE on the test data:\",MSE_best_alpha[0][0])"
   ]
  },
  {
   "cell_type": "code",
   "execution_count": 486,
   "metadata": {},
   "outputs": [
    {
     "data": {
      "image/png": "[encoded data removed]",
      "text/plain": [
       "<Figure size 432x288 with 1 Axes>"
      ]
     },
     "metadata": {
      "needs_background": "light"
     },
     "output_type": "display_data"
    }
   ],
   "source": [
    "from matplotlib import pyplot as plt \n",
    "absolute_error=np.abs(y_test-np.dot(X_test,w_best_alpha).reshape(1,-1)[0])\n",
    "plt.hist(absolute_error)\n",
    "plt.title(\"histogram\") \n",
    "plt.xlabel('absolute error')\n",
    "plt.ylabel('test data')\n",
    "plt.show()"
   ]
  },
  {
   "cell_type": "markdown",
   "metadata": {},
   "source": [
    "Write the explanation to your answer here.\n",
    "\n",
    "\n",
    "Regularisation decreases the complexity of the model, reduces over-fitting of the model. When we let w decrease by regularising, some sample points can be ignored, so the complexity of model is decreased."
   ]
  },
  {
   "cell_type": "markdown",
   "metadata": {},
   "source": [
    "## Question 8: training with gradient descent and validation (5 marks)\n",
    "\n",
    "\n",
    "Use gradient descent to iteratively compute the value of $\\mathbf{w}_{\\text{new}}$. Instead of using all the training set to compute the gradient, use a subset of $B$ datapoints in the training set. This is sometimes called minibatch gradient descent where $B$ is the size of the minibacth. When using gradient descent with minibatches, you need to find the best values for three parameters: $\\eta$, the learning rate, $B$, the number of datapoints in the minibatch and $\\alpha$, the regularisation parameter.\n",
    "\n",
    "* As you did on Question 6, create a grid of values for the parameters $\\alpha$ and $\\eta$ using `np.logspace` and a grid of values for $B$ using np.linspace. Because you need to find \n",
    " three parameters, start with `num=5` and see if you can increase it.\n",
    "\n",
    "* Use the same training set and validation set that you used in Question 6.\n",
    "\n",
    "* For each value that you have of $\\alpha$, $\\eta$ and $B$ from the previous step, use the training set to compute $\\mathbf{w}$ using minibatch gradient descent and then measure the MSE over the validation data. For the minibatch gradient descent choose to stop the iterative procedure after $500$ iterations.\n",
    "\n",
    "* Choose the values of $\\alpha$, $\\eta$ and $B$ that lead to the lower MSE and save them. You will use them at the test stage.\n",
    "\n",
    "*3 marks of out of the 5 marks*\n",
    "\n",
    "\n",
    "* Use the test set from Question 7 and provide the MSE obtained by having used minibatch training with the best values for $\\alpha$, $\\eta$ and $B$ over the WHOLE training data (not only the training set).\n",
    "\n",
    "* Compare the performance of the closed form solution and the minibatch solution. Are the performances similar? Are the parameters $\\mathbf{w}$ and $\\alpha$ similar in both approaches? Please comment on both questions.\n",
    "\n",
    "*2 marks of out of the 5 marks*\n",
    "\n",
    "#### Question 8 Answer"
   ]
  },
  {
   "cell_type": "code",
   "execution_count": 487,
   "metadata": {},
   "outputs": [],
   "source": [
    "alpha_new = np.logspace(-4,1,5)\n",
    "eta = np.logspace(-5,-1,5)\n",
    "B = np.linspace(500,3771,5).astype(int)"
   ]
  },
  {
   "cell_type": "code",
   "execution_count": 488,
   "metadata": {},
   "outputs": [],
   "source": [
    "def minibatch_GD_validation(alpha,eta,batch,X_tr,y_tr,X_va,y_va):\n",
    "    w = np.linalg.inv(2/batch*np.dot(X_tr.T,X_tr)+alpha).dot(2/batch*np.dot(X_tr.T,y_tr.reshape(-1,1))) # (12,1)\n",
    "    for epochs in range(500):\n",
    "        J_deri = -2/batch * np.dot(X_tr.T,y_tr.reshape(-1,1)) + 2/batch * np.dot((X_tr.T.dot(X_tr)),w) + alpha*w \n",
    "        w -= eta * J_deri\n",
    "    n = X_va.shape[0]\n",
    "    MSE = 1/n*np.dot(y_va.reshape(1,-1),y_va.reshape(-1,1)) - 2/n*(np.dot(w.reshape(1,-1),X_va.T)).dot(y_va.reshape(-1,1)) + 1/n*np.dot((w.reshape(1,-1).dot(X_va.T)),X_va.dot(w.reshape(-1,1))) + 1/2*alpha*np.dot(w.reshape(1,-1),w.reshape(-1,1))\n",
    "    combination_para = [alpha,eta,batch]\n",
    "    return w,MSE,combination_para\n"
   ]
  },
  {
   "cell_type": "code",
   "execution_count": 489,
   "metadata": {},
   "outputs": [],
   "source": [
    "MSE_list = []\n",
    "W = []\n",
    "combination_para_list = []\n",
    "for i in range(len(alpha_new)):\n",
    "    for j in range(len(eta)):\n",
    "        for k in range(len(B)):\n",
    "            w,MSE,combination_para = minibatch_GD_validation(alpha_new[i],eta[j],B[k],\n",
    "                        X_tr = training_set[0:B[k],:],\n",
    "                        y_tr = y_training_set[0:B[k]],\n",
    "                        X_va = validation_set,\n",
    "                        y_va = y_validation_set)\n",
    "            W.append(w)\n",
    "            MSE_list.append(MSE[0][0])\n",
    "            combination_para_list.append(combination_para)\n",
    "            "
   ]
  },
  {
   "cell_type": "code",
   "execution_count": 490,
   "metadata": {},
   "outputs": [
    {
     "name": "stdout",
     "output_type": "stream",
     "text": [
      "index =  2\n",
      "the value of alpha,eta and batch:  [0.0001, 1e-05, 2135]\n",
      "MSE over validation set: 0.21704871369768028\n"
     ]
    }
   ],
   "source": [
    "print(\"index = \",np.argmin(MSE_list))\n",
    "print(\"the value of alpha,eta and batch: \",combination_para_list[np.argmin(MSE_list)])\n",
    "print(\"MSE over validation set:\",MSE_list[np.argmin(MSE_list)])"
   ]
  },
  {
   "cell_type": "code",
   "execution_count": 491,
   "metadata": {},
   "outputs": [
    {
     "name": "stdout",
     "output_type": "stream",
     "text": [
      "MSE over test set 0.2502871492072166\n"
     ]
    }
   ],
   "source": [
    "w_whole_tr,MSE_test,para = minibatch_GD_validation(0.0001,0.00001,2135,\n",
    "                        X_tr = X[0:2135,:],\n",
    "                        y_tr = y[0:2135],\n",
    "                        X_va = X_test,\n",
    "                        y_va = y_test)\n",
    "        \n",
    "print(\"MSE over test set\",MSE_test[0][0])"
   ]
  },
  {
   "cell_type": "code",
   "execution_count": 492,
   "metadata": {},
   "outputs": [
    {
     "name": "stdout",
     "output_type": "stream",
     "text": [
      "prediction value: [[1.08968001 1.91722202 3.22123319 ... 2.00927697 0.34067203 2.60952384]]\n",
      "true value: [1.4 2.  3.  ... 2.  0.3 2.4]\n"
     ]
    }
   ],
   "source": [
    "y_hat = X.dot(w_whole_tr)\n",
    "print(\"prediction value:\",y_hat.reshape(1,-1))\n",
    "print(\"true value:\",y)"
   ]
  }
 ],
 "metadata": {
  "kernelspec": {
   "display_name": "Python 3",
   "language": "python",
   "name": "python3"
  },
  "language_info": {
   "codemirror_mode": {
    "name": "ipython",
    "version": 3
   },
   "file_extension": ".py",
   "mimetype": "text/x-python",
   "name": "python",
   "nbconvert_exporter": "python",
   "pygments_lexer": "ipython3",
   "version": "3.7.3"
  }
 },
 "nbformat": 4,
 "nbformat_minor": 2
}
